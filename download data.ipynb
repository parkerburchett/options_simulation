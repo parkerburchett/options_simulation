{
 "cells": [
  {
   "cell_type": "markdown",
   "metadata": {},
   "source": [
    "# How to get 1-day of options data\n",
    "\n",
    "Go to the [Tardis Documentation:](https://docs.tardis.dev/downloadable-csv-files#options_chain) and `Deribit options chain for 2020-03-01`\n",
    "\n",
    "This will download a *.csv.gz file of the data. This is quite large with 10.8M rows and after unzipping it is 2.9GB large."
   ]
  },
  {
   "cell_type": "code",
   "execution_count": 3,
   "metadata": {},
   "outputs": [
    {
     "data": {
      "text/plain": [
       "(10819262, 24)"
      ]
     },
     "execution_count": 3,
     "metadata": {},
     "output_type": "execute_result"
    }
   ],
   "source": [
    "import pandas as pd\n",
    "import numpy as np\n",
    "\n",
    "df = pd.read_csv('deribit_options_chain_2020-03-01_OPTIONS.csv.gz',compression='gzip') # 13 m rows\n",
    "df.shape"
   ]
  },
  {
   "cell_type": "code",
   "execution_count": 2,
   "metadata": {},
   "outputs": [
    {
     "data": {
      "text/html": [
       "<div>\n",
       "<style scoped>\n",
       "    .dataframe tbody tr th:only-of-type {\n",
       "        vertical-align: middle;\n",
       "    }\n",
       "\n",
       "    .dataframe tbody tr th {\n",
       "        vertical-align: top;\n",
       "    }\n",
       "\n",
       "    .dataframe thead th {\n",
       "        text-align: right;\n",
       "    }\n",
       "</style>\n",
       "<table border=\"1\" class=\"dataframe\">\n",
       "  <thead>\n",
       "    <tr style=\"text-align: right;\">\n",
       "      <th></th>\n",
       "      <th>exchange</th>\n",
       "      <th>symbol</th>\n",
       "      <th>timestamp</th>\n",
       "      <th>local_timestamp</th>\n",
       "      <th>type</th>\n",
       "      <th>strike_price</th>\n",
       "      <th>expiration</th>\n",
       "      <th>open_interest</th>\n",
       "      <th>last_price</th>\n",
       "      <th>bid_price</th>\n",
       "      <th>...</th>\n",
       "      <th>ask_iv</th>\n",
       "      <th>mark_price</th>\n",
       "      <th>mark_iv</th>\n",
       "      <th>underlying_index</th>\n",
       "      <th>underlying_price</th>\n",
       "      <th>delta</th>\n",
       "      <th>gamma</th>\n",
       "      <th>vega</th>\n",
       "      <th>theta</th>\n",
       "      <th>rho</th>\n",
       "    </tr>\n",
       "  </thead>\n",
       "  <tbody>\n",
       "    <tr>\n",
       "      <th>0</th>\n",
       "      <td>okex-options</td>\n",
       "      <td>BTC-USD-200327-10500-P</td>\n",
       "      <td>1583020800666000</td>\n",
       "      <td>1583020801502613</td>\n",
       "      <td>put</td>\n",
       "      <td>10500</td>\n",
       "      <td>1585296000000000</td>\n",
       "      <td>7</td>\n",
       "      <td>0.2025</td>\n",
       "      <td>0.2115</td>\n",
       "      <td>...</td>\n",
       "      <td>0.8594</td>\n",
       "      <td>0.224348</td>\n",
       "      <td>0.6647</td>\n",
       "      <td>BTC-USD</td>\n",
       "      <td>NaN</td>\n",
       "      <td>-1.059442</td>\n",
       "      <td>2.438221</td>\n",
       "      <td>0.000661</td>\n",
       "      <td>-0.000819</td>\n",
       "      <td>NaN</td>\n",
       "    </tr>\n",
       "    <tr>\n",
       "      <th>1</th>\n",
       "      <td>okex-options</td>\n",
       "      <td>BTC-USD-200626-5000-P</td>\n",
       "      <td>1583020801283000</td>\n",
       "      <td>1583020801502645</td>\n",
       "      <td>put</td>\n",
       "      <td>5000</td>\n",
       "      <td>1593158400000000</td>\n",
       "      <td>1</td>\n",
       "      <td>0.0105</td>\n",
       "      <td>0.0100</td>\n",
       "      <td>...</td>\n",
       "      <td>0.7324</td>\n",
       "      <td>0.010112</td>\n",
       "      <td>0.7096</td>\n",
       "      <td>BTC-USD</td>\n",
       "      <td>NaN</td>\n",
       "      <td>-0.061137</td>\n",
       "      <td>0.321611</td>\n",
       "      <td>0.000594</td>\n",
       "      <td>-0.000180</td>\n",
       "      <td>NaN</td>\n",
       "    </tr>\n",
       "    <tr>\n",
       "      <th>2</th>\n",
       "      <td>okex-options</td>\n",
       "      <td>BTC-USD-200626-24000-C</td>\n",
       "      <td>1583020801283000</td>\n",
       "      <td>1583020801502662</td>\n",
       "      <td>call</td>\n",
       "      <td>24000</td>\n",
       "      <td>1593158400000000</td>\n",
       "      <td>3</td>\n",
       "      <td>0.0150</td>\n",
       "      <td>0.0125</td>\n",
       "      <td>...</td>\n",
       "      <td>0.9912</td>\n",
       "      <td>0.012853</td>\n",
       "      <td>0.9765</td>\n",
       "      <td>BTC-USD</td>\n",
       "      <td>NaN</td>\n",
       "      <td>0.051962</td>\n",
       "      <td>0.176495</td>\n",
       "      <td>0.000717</td>\n",
       "      <td>-0.000298</td>\n",
       "      <td>NaN</td>\n",
       "    </tr>\n",
       "    <tr>\n",
       "      <th>3</th>\n",
       "      <td>okex-options</td>\n",
       "      <td>BTC-USD-200626-13000-P</td>\n",
       "      <td>1583020801283000</td>\n",
       "      <td>1583020801502677</td>\n",
       "      <td>put</td>\n",
       "      <td>13000</td>\n",
       "      <td>1593158400000000</td>\n",
       "      <td>0</td>\n",
       "      <td>NaN</td>\n",
       "      <td>0.5035</td>\n",
       "      <td>...</td>\n",
       "      <td>0.7813</td>\n",
       "      <td>0.511247</td>\n",
       "      <td>0.7468</td>\n",
       "      <td>BTC-USD</td>\n",
       "      <td>NaN</td>\n",
       "      <td>-1.263106</td>\n",
       "      <td>2.008358</td>\n",
       "      <td>0.001789</td>\n",
       "      <td>-0.000564</td>\n",
       "      <td>NaN</td>\n",
       "    </tr>\n",
       "    <tr>\n",
       "      <th>4</th>\n",
       "      <td>okex-options</td>\n",
       "      <td>BTC-USD-200626-16000-P</td>\n",
       "      <td>1583020801283000</td>\n",
       "      <td>1583020801502711</td>\n",
       "      <td>put</td>\n",
       "      <td>16000</td>\n",
       "      <td>1593158400000000</td>\n",
       "      <td>0</td>\n",
       "      <td>NaN</td>\n",
       "      <td>0.7600</td>\n",
       "      <td>...</td>\n",
       "      <td>1.1792</td>\n",
       "      <td>0.825743</td>\n",
       "      <td>0.8105</td>\n",
       "      <td>BTC-USD</td>\n",
       "      <td>NaN</td>\n",
       "      <td>-1.677105</td>\n",
       "      <td>2.178579</td>\n",
       "      <td>0.001307</td>\n",
       "      <td>-0.000443</td>\n",
       "      <td>NaN</td>\n",
       "    </tr>\n",
       "  </tbody>\n",
       "</table>\n",
       "<p>5 rows × 24 columns</p>\n",
       "</div>"
      ],
      "text/plain": [
       "       exchange                  symbol         timestamp   local_timestamp  \\\n",
       "0  okex-options  BTC-USD-200327-10500-P  1583020800666000  1583020801502613   \n",
       "1  okex-options   BTC-USD-200626-5000-P  1583020801283000  1583020801502645   \n",
       "2  okex-options  BTC-USD-200626-24000-C  1583020801283000  1583020801502662   \n",
       "3  okex-options  BTC-USD-200626-13000-P  1583020801283000  1583020801502677   \n",
       "4  okex-options  BTC-USD-200626-16000-P  1583020801283000  1583020801502711   \n",
       "\n",
       "   type  strike_price        expiration  open_interest  last_price  bid_price  \\\n",
       "0   put         10500  1585296000000000              7      0.2025     0.2115   \n",
       "1   put          5000  1593158400000000              1      0.0105     0.0100   \n",
       "2  call         24000  1593158400000000              3      0.0150     0.0125   \n",
       "3   put         13000  1593158400000000              0         NaN     0.5035   \n",
       "4   put         16000  1593158400000000              0         NaN     0.7600   \n",
       "\n",
       "   ...  ask_iv  mark_price  mark_iv  underlying_index  underlying_price  \\\n",
       "0  ...  0.8594    0.224348   0.6647           BTC-USD               NaN   \n",
       "1  ...  0.7324    0.010112   0.7096           BTC-USD               NaN   \n",
       "2  ...  0.9912    0.012853   0.9765           BTC-USD               NaN   \n",
       "3  ...  0.7813    0.511247   0.7468           BTC-USD               NaN   \n",
       "4  ...  1.1792    0.825743   0.8105           BTC-USD               NaN   \n",
       "\n",
       "      delta     gamma      vega     theta  rho  \n",
       "0 -1.059442  2.438221  0.000661 -0.000819  NaN  \n",
       "1 -0.061137  0.321611  0.000594 -0.000180  NaN  \n",
       "2  0.051962  0.176495  0.000717 -0.000298  NaN  \n",
       "3 -1.263106  2.008358  0.001789 -0.000564  NaN  \n",
       "4 -1.677105  2.178579  0.001307 -0.000443  NaN  \n",
       "\n",
       "[5 rows x 24 columns]"
      ]
     },
     "execution_count": 2,
     "metadata": {},
     "output_type": "execute_result"
    }
   ],
   "source": [
    "df.head()"
   ]
  },
  {
   "cell_type": "code",
   "execution_count": 13,
   "metadata": {},
   "outputs": [
    {
     "data": {
      "text/plain": [
       "ETH-6MAR20-210-C     35233\n",
       "ETH-26JUN20-720-P    32969\n",
       "ETH-6MAR20-220-C     30987\n",
       "ETH-6MAR20-230-P     30862\n",
       "ETH-6MAR20-220-P     29608\n",
       "                     ...  \n",
       "ETH-1MAR20-245-C      5139\n",
       "ETH-3MAR20-195-C      5104\n",
       "ETH-3MAR20-195-P      4993\n",
       "ETH-3MAR20-190-C      2306\n",
       "ETH-3MAR20-190-P      2302\n",
       "Name: symbol, Length: 650, dtype: int64"
      ]
     },
     "execution_count": 13,
     "metadata": {},
     "output_type": "execute_result"
    }
   ],
   "source": [
    "df['symbol'].value_counts()"
   ]
  },
  {
   "cell_type": "markdown",
   "metadata": {},
   "source": [
    "The naming convention for the `symbol` column \n",
    "\n",
    "<blockquote>\n",
    "The symbol of an options contract consists of Underlying asset-Expiry date-Strike price-Option's type (C - call/ P - put).\n",
    "\n",
    "Example:\n",
    "\n",
    "BTC-30MAR2019-10000-C\n",
    "\n",
    "This is a call option (C), with a strike price of 10,000 USD, expiring on March 30, 2019.\n",
    "</blockquote> \n",
    "\n",
    "[Deribit Documentation:](https://legacy.deribit.com/pages/docs/options)\n",
    "\n",
    "On 2020-03-01 there were 650 unique options"
   ]
  },
  {
   "cell_type": "code",
   "execution_count": 18,
   "metadata": {},
   "outputs": [
    {
     "data": {
      "text/plain": [
       "Index(['exchange', 'symbol', 'timestamp', 'local_timestamp', 'type',\n",
       "       'strike_price', 'expiration', 'open_interest', 'last_price',\n",
       "       'bid_price', 'bid_amount', 'bid_iv', 'ask_price', 'ask_amount',\n",
       "       'ask_iv', 'mark_price', 'mark_iv', 'underlying_index',\n",
       "       'underlying_price', 'delta', 'gamma', 'vega', 'theta', 'rho'],\n",
       "      dtype='object')"
      ]
     },
     "execution_count": 18,
     "metadata": {},
     "output_type": "execute_result"
    }
   ],
   "source": [
    "df.columns"
   ]
  },
  {
   "cell_type": "code",
   "execution_count": 20,
   "metadata": {},
   "outputs": [
    {
     "data": {
      "text/plain": [
       "(array([  17902.,   65983.,   88495.,   90751.,  101289.,  182474.,\n",
       "         227019.,  611779., 1270732., 8162838.]),\n",
       " array([-46.58242 , -41.924178, -37.265936, -32.607694, -27.949452,\n",
       "        -23.29121 , -18.632968, -13.974726,  -9.316484,  -4.658242,\n",
       "          0.      ]),\n",
       " <BarContainer object of 10 artists>)"
      ]
     },
     "execution_count": 20,
     "metadata": {},
     "output_type": "execute_result"
    },
    {
     "data": {
      "image/png": "[encoded data removed]",
      "text/plain": [
       "<Figure size 432x288 with 1 Axes>"
      ]
     },
     "metadata": {
      "needs_background": "light"
     },
     "output_type": "display_data"
    }
   ],
   "source": [
    "import matplotlib.pyplot as plt\n",
    "plt.hist(df['theta'])"
   ]
  },
  {
   "cell_type": "code",
   "execution_count": null,
   "metadata": {},
   "outputs": [],
   "source": []
  }
 ],
 "metadata": {
  "interpreter": {
   "hash": "9c1ae6c042bdf44c92e2d220393e130bc73b615506c926d11d2bd171a062271f"
  },
  "kernelspec": {
   "display_name": "Python 3.9.5 ('.venv': poetry)",
   "language": "python",
   "name": "python3"
  },
  "language_info": {
   "codemirror_mode": {
    "name": "ipython",
    "version": 3
   },
   "file_extension": ".py",
   "mimetype": "text/x-python",
   "name": "python",
   "nbconvert_exporter": "python",
   "pygments_lexer": "ipython3",
   "version": "3.9.5"
  },
  "orig_nbformat": 4
 },
 "nbformat": 4,
 "nbformat_minor": 2
}
